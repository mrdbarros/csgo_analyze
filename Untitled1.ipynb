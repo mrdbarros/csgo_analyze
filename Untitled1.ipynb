{
 "cells": [
  {
   "cell_type": "code",
   "execution_count": 7,
   "id": "minimal-crystal",
   "metadata": {},
   "outputs": [],
   "source": [
    "import itertools\n",
    "import logging\n",
    "import random\n",
    "\n",
    "import pandas as pd\n",
    "import torch\n",
    "import datetime\n",
    "import pathlib\n",
    "import os\n",
    "import PIL\n",
    "import torchvision\n",
    "import numpy as np\n",
    "import data_loading\n",
    "import models\n",
    "import training"
   ]
  },
  {
   "cell_type": "code",
   "execution_count": 8,
   "id": "mobile-treaty",
   "metadata": {},
   "outputs": [
    {
     "name": "stdout",
     "output_type": "stream",
     "text": [
      "27532\n",
      "1822\n"
     ]
    }
   ],
   "source": [
    "path = \"/home/marcel/projetos/data/csgo_analyze/processed/val\"\n",
    "image_files = data_loading.get_files(path, extensions=['.jpg'])\n",
    "tabular_files = data_loading.get_files(path, extensions=['.csv'])\n",
    "print(len(image_files))\n",
    "print(len(tabular_files))\n",
    "bs = 80\n",
    "final_bn=True\n",
    "image_output_size=200\n",
    "seed = 42\n",
    "experiment_name = \"model_training\"\n",
    "device = \"cuda:0\"\n",
    "\n",
    "\n",
    "torch.backends.cudnn.deterministic = True\n",
    "torch.backends.cudnn.benchmark = False\n",
    "np.random.seed(seed)\n",
    "torch.manual_seed(seed)\n",
    "cut_size = 0\n",
    "n_epochs =3\n",
    "lr=5e-4\n",
    "img_sizes = [600,400,200]\n",
    "seeds = [42,30,13]\n",
    "logging.basicConfig(filename='single_image_eval.log', level=logging.INFO)\n",
    "img_size = 200"
   ]
  },
  {
   "cell_type": "code",
   "execution_count": 9,
   "id": "fifth-pendant",
   "metadata": {},
   "outputs": [
    {
     "name": "stdout",
     "output_type": "stream",
     "text": [
      "/home/marcel/projetos/data/csgo_analyze/processed/val/de_dust2/14/20_ct_05_t_14/output_map05.jpg\n",
      "t\n"
     ]
    }
   ],
   "source": [
    "if cut_size != 0:\n",
    "    randomlist = random.sample(range(len(tabular_files)), cut_size)\n",
    "    tabular_files = [tab_file for i,tab_file in enumerate(tabular_files) if i in randomlist]\n",
    "\n",
    "\n",
    "print(image_files[0])\n",
    "print(data_loading.fileLabeller(image_files[0]))\n",
    "tabular_files = [fileName for fileName in tabular_files if pathlib.Path(fileName).name == \"periodic_data.csv\"]\n",
    "\n",
    "full_csv=data_loading.filterTabularData(tabular_files,data_loading.columns)\n",
    "\n",
    "filtered_image_files = data_loading.filterImageData(full_csv)\n",
    "\n",
    "\n",
    "# filtered_image_files=filtered_image_files[:2000]\n",
    "# full_csv=full_csv.iloc[:2000,:]\n",
    "splits = data_loading.folderSplitter(filtered_image_files)\n",
    "#splits = data_loading.roundSplitter(filtered_image_files)\n",
    "\n",
    "assert filtered_image_files[203]==full_csv.iloc[203, -2]\n",
    "\n",
    "# class groups:\n",
    "# mainweapon, secweapon,flashbangs,hassmoke,hasmolotov,hashe,hashelmet,hasc4,hasdefusekit"
   ]
  },
  {
   "cell_type": "code",
   "execution_count": 12,
   "id": "severe-family",
   "metadata": {},
   "outputs": [
    {
     "data": {
      "text/plain": [
       "[PosixPath('/home/marcel/projetos/data/csgo_analyze/processed/val/de_train/17'), PosixPath('/home/marcel/projetos/data/csgo_analyze/processed/val/de_mirage/18'), PosixPath('/home/marcel/projetos/data/csgo_analyze/processed/val/de_nuke/55'), PosixPath('/home/marcel/projetos/data/csgo_analyze/processed/val/de_inferno/9'), PosixPath('/home/marcel/projetos/data/csgo_analyze/processed/val/de_mirage/45'), PosixPath('/home/marcel/projetos/data/csgo_analyze/processed/val/de_vertigo/15'), PosixPath('/home/marcel/projetos/data/csgo_analyze/processed/val/de_nuke/16'), PosixPath('/home/marcel/projetos/data/csgo_analyze/processed/val/de_nuke/20'), PosixPath('/home/marcel/projetos/data/csgo_analyze/processed/val/de_inferno/23'), PosixPath('/home/marcel/projetos/data/csgo_analyze/processed/val/de_dust2/4'), PosixPath('/home/marcel/projetos/data/csgo_analyze/processed/val/de_train/83'), PosixPath('/home/marcel/projetos/data/csgo_analyze/processed/val/de_mirage/12'), PosixPath('/home/marcel/projetos/data/csgo_analyze/processed/val/de_dust2/5'), PosixPath('/home/marcel/projetos/data/csgo_analyze/processed/val/de_dust2/14'), PosixPath('/home/marcel/projetos/data/csgo_analyze/processed/val/de_nuke/71'), PosixPath('/home/marcel/projetos/data/csgo_analyze/processed/val/de_nuke/81'), PosixPath('/home/marcel/projetos/data/csgo_analyze/processed/val/de_inferno/40'), PosixPath('/home/marcel/projetos/data/csgo_analyze/processed/val/de_train/57'), PosixPath('/home/marcel/projetos/data/csgo_analyze/processed/val/de_overpass/1'), PosixPath('/home/marcel/projetos/data/csgo_analyze/processed/val/de_vertigo/8'), PosixPath('/home/marcel/projetos/data/csgo_analyze/processed/val/de_nuke/2'), PosixPath('/home/marcel/projetos/data/csgo_analyze/processed/val/de_inferno/52'), PosixPath('/home/marcel/projetos/data/csgo_analyze/processed/val/de_overpass/19'), PosixPath('/home/marcel/projetos/data/csgo_analyze/processed/val/de_inferno/0')]"
      ]
     },
     "execution_count": 12,
     "metadata": {},
     "output_type": "execute_result"
    }
   ],
   "source": [
    "distinct_matches = list(set(pathlib.Path(tab_file).parent.parent for tab_file in tabular_files))\n",
    "distinct_matches"
   ]
  },
  {
   "cell_type": "code",
   "execution_count": 14,
   "id": "complicated-yahoo",
   "metadata": {},
   "outputs": [],
   "source": [
    "distinct_rounds = list(set(pathlib.Path(tab_file).parent for tab_file in tabular_files))"
   ]
  },
  {
   "cell_type": "code",
   "execution_count": null,
   "id": "available-driver",
   "metadata": {},
   "outputs": [],
   "source": [
    "def ToTensor(o):\n",
    "    return torch.from_numpy(o)\n",
    "\n",
    "\n",
    "class Categorize():\n",
    "    def __init__(self, category_map: list = None, multicat=True):\n",
    "        self.category_map = category_map\n",
    "        self.multicat = multicat\n",
    "\n",
    "    def __call__(self, df_row: pd.DataFrame):\n",
    "        categories = []\n",
    "        if self.multicat:\n",
    "            for cat in df_row.index:\n",
    "                group = cat[cat.rfind(\"_\") + 1:]\n",
    "                category = self.category_map[group].index(df_row[cat])\n",
    "                categories.append(category)\n",
    "        else:\n",
    "            category = self.category_map[\"winner\"].index(df_row)\n",
    "            categories.append(category)\n",
    "        return np.array(categories)\n",
    "\n",
    "\n",
    "class Normalize():\n",
    "    def __init__(self, tabular_df: pd.DataFrame, category_map):\n",
    "        self.means = [tabular_df[column].mean() for column in tabular_df.columns\n",
    "                      if not column[column.rfind(\"_\") + 1:] in category_map]\n",
    "        self.std = [tabular_df[column].std() for column in tabular_df.columns\n",
    "                    if not column[column.rfind(\"_\") + 1:] in category_map]\n",
    "\n",
    "    def __call__(self, o: pd.DataFrame):\n",
    "        ret = o.copy()\n",
    "        for i, column in enumerate(ret.index):\n",
    "            ret[column] = (o[column] - self.means[i]) / self.std[i]\n",
    "        return ret.astype(\"float32\").values\n",
    "\n",
    "\n",
    "class TransformPipeline():\n",
    "    def __init__(self, transforms: list):\n",
    "        self.transforms = transforms\n",
    "\n",
    "    def __call__(self, o):\n",
    "        res = o\n",
    "        for transform in self.transforms:\n",
    "            res = transform(res)\n",
    "        return res"
   ]
  },
  {
   "cell_type": "code",
   "execution_count": null,
   "id": "incredible-speed",
   "metadata": {},
   "outputs": [],
   "source": [
    "valid_tabular = full_csv\n",
    "valid_images = filtered_image_files\n",
    "\n",
    "cat_transforms = TransformPipeline([Categorize(data_loading.x_category_map), ToTensor])\n",
    "cont_transforms = TransformPipeline([Normalize(valid_tabular.iloc[:, :-2], category_map=data_loading.x_category_map), ToTensor])\n",
    "label_transforms = TransformPipeline([Categorize(data_loading.y_category_map, multicat=False), ToTensor])\n",
    "# image_transforms = torchvision.transforms.Compose(\n",
    "#     [torchvision.transforms.Resize(200), torchvision.transforms.ToTensor(),\n",
    "#      torchvision.transforms.Normalize((0.0019, 0.0040, 0.0061), (0.0043, 0.0084, 0.0124))])\n",
    "\n",
    "#for seed,img_size in itertools.product(seeds,img_sizes):\n",
    "\n",
    "image_transforms = [torchvision.transforms.ToTensor(),#data_loading.transposeLycon,\n",
    "     torchvision.transforms.Normalize((255*0.0019, 255*0.0040, 255*0.0061), (255*0.0043, 255*0.0084, 255*0.0124))]\n",
    "if img_size != 800:\n",
    "    image_transforms = [data_loading.resize_lycon(img_size)]+image_transforms\n",
    "image_transforms = torchvision.transforms.Compose(image_transforms)\n",
    "\n",
    "valid_y_series = valid_tabular[\"winner\"]\n",
    "valid_x_tabular = valid_tabular.iloc[:, :-2]\n",
    "valid_dataset = data_loading.CSGORoundsDatasetSingleImage(valid_images, valid_x_tabular, valid_y_series, image_transforms,\n",
    "                                  cat_transforms, cont_transforms, label_transforms, data_loading.x_category_map, data_loading.y_category_map)\n",
    "\n",
    "\n",
    "valid_dl_mixed = torch.utils.data.DataLoader(valid_dataset, batch_size=bs, shuffle=False)                                           )\n",
    "\n",
    "\n",
    "group_count = 0\n",
    "category_groups_sizes = {}\n",
    "for class_group, class_group_categories in data_loading.x_category_map.items():\n",
    "    category_groups_sizes[class_group] = (group_count, len(class_group_categories))\n",
    "    group_count += 1\n",
    "category_list = data_loading.cat_names\n",
    "\n",
    "\n",
    "\n",
    "\n",
    "np.random.seed(seed)\n",
    "torch.manual_seed(seed)\n",
    "\n",
    "tab_model = models.TabularModelCustom(category_list, category_groups_sizes, len(data_loading.cont_names), [200, 100], ps=[0.2, 0.2],\n",
    "                                      embed_p=0.2,bn_final=final_bn)\n",
    "\n",
    "\n",
    "\n",
    "image_model = torch.hub.load('pytorch/vision:v0.6.0', 'resnet34', pretrained=False,num_classes=image_output_size)\n",
    "image_model.to(device)\n",
    "\n",
    "\n",
    "# tab_model.load_state_dict(\n",
    "#     torch.load(os.path.expanduser('~/projetos/data/csgo_analyze/processed_test/tab_output-bceloss200-1.pt')))\n",
    "model = models.CustomMixedModelSingleImage(image_model, tab_model,image_output_size,class_p=0.2)\n",
    "model = model.to(device)\n",
    "\n",
    "\n",
    "model.load_state_dict(\n",
    "    torch.load(os.path.expanduser('~/projetos/data/csgo_analyze/processed/full_model-bceloss200-1.pt')))\n",
    "\n",
    "\n",
    "loss_fn = torch.nn.BCEWithLogitsLoss().to(device)\n"
   ]
  }
 ],
 "metadata": {
  "kernelspec": {
   "display_name": "Python 3.9 (XPython)",
   "language": "python",
   "name": "xpython"
  },
  "language_info": {
   "file_extension": ".py",
   "mimetype": "text/x-python",
   "name": "python",
   "version": "3.9.0"
  }
 },
 "nbformat": 4,
 "nbformat_minor": 5
}
