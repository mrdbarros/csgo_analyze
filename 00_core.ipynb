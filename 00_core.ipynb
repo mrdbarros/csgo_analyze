{
 "cells": [
  {
   "cell_type": "code",
   "execution_count": null,
   "metadata": {},
   "outputs": [],
   "source": [
    "\n",
    "%load_ext autoreload\n",
    "%autoreload 2\n",
    "\n",
    ""
   ]
  },
  {
   "cell_type": "code",
   "execution_count": null,
   "metadata": {},
   "outputs": [],
   "source": [
    "# default_exp core\n",
    ""
   ]
  },
  {
   "cell_type": "markdown",
   "metadata": {},
   "source": [
    " # module name here\n",
    "\n",
    " > API details."
   ]
  },
  {
   "cell_type": "code",
   "execution_count": null,
   "metadata": {},
   "outputs": [],
   "source": [
    "#hide\n",
    "from nbdev.showdoc import *\n",
    "\n",
    ""
   ]
  },
  {
   "cell_type": "code",
   "execution_count": null,
   "metadata": {},
   "outputs": [],
   "source": [
    "from fastai2.tabular.all import *\n",
    "from fastai2.vision.all import *\n",
    "from fastai2.data.load import _FakeLoader, _loaders\n",
    "import pandas as pd\n",
    "from torch.utils.tensorboard import SummaryWriter\n",
    "import datetime\n",
    "\n",
    ""
   ]
  },
  {
   "cell_type": "code",
   "execution_count": null,
   "metadata": {},
   "outputs": [],
   "source": [
    "from fastai2.data.load import _FakeLoader, _loaders\n",
    "class MixedDL():\n",
    "    def __init__(self, tab_dl:TabDataLoader, vis_dl:TfmdDL, device='cuda:0'):\n",
    "        \"Stores away `tab_dl` and `vis_dl`, and overrides `shuffle_fn`\"\n",
    "        self.device = device\n",
    "        tab_dl.shuffle_fn = self.shuffle_fn\n",
    "        vis_dl.shuffle_fn = self.shuffle_fn\n",
    "        self.dls = [tab_dl, vis_dl]\n",
    "        self.count = 0\n",
    "        self.fake_l = _FakeLoader(self, False, 0, 0)\n",
    "\n",
    ""
   ]
  },
  {
   "cell_type": "code",
   "execution_count": null,
   "metadata": {},
   "outputs": [],
   "source": [
    "@patch\n",
    "def shuffle_fn(x:MixedDL, idxs):\n",
    "        \"Generates a new `rng` based upon which `DataLoader` is called\"\n",
    "        if x.count == 0: # if we haven't generated an rng yet\n",
    "            x.rng = x.dls[0].rng.sample(idxs, len(idxs))\n",
    "            x.count += 1\n",
    "            return x.rng\n",
    "        else:\n",
    "            x.count = 0\n",
    "            return x.rng\n",
    "\n",
    "@patch\n",
    "def __iter__(dl:MixedDL):\n",
    "        \"Iterate over your `DataLoader`\"\n",
    "        z = zip(*[_loaders[i.fake_l.num_workers==0](i.fake_l) for i in dl.dls])\n",
    "        for b in z:\n",
    "            if dl.device is not None:\n",
    "                b = to_device(b, dl.device)\n",
    "            batch = []\n",
    "            batch.extend(dl.dls[0].after_batch(b[0])[:2]) # tabular cat and cont\n",
    "            batch.append(dl.dls[1].after_batch(b[1][0])) # Image\n",
    "            batch.append(b[1][1]) # y\n",
    "            yield tuple(batch)\n",
    "\n",
    "@patch\n",
    "def one_batch(x:MixedDL):\n",
    "        \"Grab a batch from the `DataLoader`\"\n",
    "        with x.fake_l.no_multiproc(): res = first(x)\n",
    "        if hasattr(x, 'it'): delattr(x, 'it')\n",
    "        return res\n",
    "\n",
    "@patch\n",
    "def __len__(x:MixedDL): return len(x.dls[0])\n",
    "\n",
    "@patch\n",
    "def to(x:MixedDL, device): x.device = device\n",
    "\n",
    "@patch\n",
    "def show_batch(x:MixedDL):\n",
    "    \"Show a batch from multiple `DataLoaders`\"\n",
    "    for dl in x.dls:\n",
    "        dl.show_batch()\n",
    "\n",
    "@patch\n",
    "def show_results(x:MixedDL,b,out,**kwargs):\n",
    "    \"Show a batch from multiple `DataLoaders`\"\n",
    "    for i,dl in enumerate(x.dls):\n",
    "        if i == 0:\n",
    "            dl.show_results(b=b[:2]+(b[3],),out=out,**kwargs)\n",
    "        else:\n",
    "            dl.show_results(b=b[2:],out=out,**kwargs)\n",
    "\n",
    "@patch\n",
    "def new(x:MixedDL,*args,**kwargs):\n",
    "    \"Show a batch from multiple `DataLoaders`\"\n",
    "    new_dls = [dl.new(*args,**kwargs) for dl in x.dls]\n",
    "    res=MixedDL(*new_dls)\n",
    "    return res\n",
    "\n",
    ""
   ]
  },
  {
   "cell_type": "code",
   "execution_count": null,
   "metadata": {},
   "outputs": [
    {
     "name": "stdout",
     "output_type": "stream",
     "text": "10144\n278\n"
    }
   ],
   "source": [
    "path = \"/home/marcel/projetos/data/csgo_analyze/processed_test/de_mirage\"\n",
    "image_files = get_image_files(path)\n",
    "tabular_files = get_files(path, extensions=['.csv'])\n",
    "print(len(image_files))\n",
    "print(len(tabular_files))\n",
    "bs=64\n",
    ""
   ]
  },
  {
   "cell_type": "code",
   "execution_count": null,
   "metadata": {},
   "outputs": [
    {
     "name": "stdout",
     "output_type": "stream",
     "text": "/home/marcel/projetos/data/csgo_analyze/processed_test/de_mirage/6/ct_2_t_3/output_map16.jpg\nct\n"
    }
   ],
   "source": [
    "def fileLabeller(o,**kwargs):\n",
    "    winnerFile = Path(o).parent/\"winner.txt\"\n",
    "    if os.path.isfile(winnerFile):\n",
    "        f = open(winnerFile, \"r\")\n",
    "        winner = f.readline()\n",
    "        f.close()\n",
    "    else:\n",
    "        winner=\"na\"\n",
    "    return winner\n",
    "\n",
    "print(image_files[0])\n",
    "print(fileLabeller(image_files[0]))\n",
    "\n",
    ""
   ]
  },
  {
   "cell_type": "code",
   "execution_count": null,
   "metadata": {},
   "outputs": [
    {
     "name": "stdout",
     "output_type": "stream",
     "text": "processing file: 0 of 278\nprocessing file: 50 of 278\nprocessing file: 100 of 278\nprocessing file: 150 of 278\nprocessing file: 200 of 278\nprocessing file: 250 of 278\n"
    }
   ],
   "source": [
    "columns = [\"t_1\",\"t_2\",\"t_3\",\"t_4\",\"t_5\",\"ct_1\",\"ct_2\",\"ct_3\",\"ct_4\",\"ct_5\",\n",
    "    \"t_1_blindtime\", \"t_2_blindtime\", \"t_3_blindtime\", \"t_4_blindtime\", \"t_5_blindtime\",\n",
    "\t\"ct_1_blindtime\", \"ct_2_blindtime\", \"ct_3_blindtime\", \"ct_4_blindtime\", \"ct_5_blindtime\",\n",
    "    \"t_1_mainweapon\", \"t_1_secweapon\", \"t_1_flashbangs\", \"t_1_hassmoke\", \"t_1_hasmolotov\", \"t_1_hashe\", \"t_1_armor\", \"t_1_hashelmet\", \"t_1_hasc4\",\n",
    "\t\t\"t_2_mainweapon\", \"t_2_secweapon\", \"t_2_flashbangs\", \"t_2_hassmoke\", \"t_2_hasmolotov\", \"t_2_hashe\", \"t_2_armor\", \"t_2_hashelmet\", \"t_2_hasc4\",\n",
    "\t\t\"t_3_mainweapon\", \"t_3_secweapon\", \"t_3_flashbangs\", \"t_3_hassmoke\", \"t_3_hasmolotov\", \"t_3_hashe\", \"t_3_armor\", \"t_3_hashelmet\", \"t_3_hasc4\",\n",
    "\t\t\"t_4_mainweapon\", \"t_4_secweapon\", \"t_4_flashbangs\", \"t_4_hassmoke\", \"t_4_hasmolotov\", \"t_4_hashe\", \"t_4_armor\", \"t_4_hashelmet\", \"t_4_hasc4\",\n",
    "\t\t\"t_5_mainweapon\", \"t_5_secweapon\", \"t_5_flashbangs\", \"t_5_hassmoke\", \"t_5_hasmolotov\", \"t_5_hashe\", \"t_5_armor\", \"t_5_hashelmet\", \"t_5_hasc4\",\n",
    "\t\t\"ct_1_mainweapon\", \"ct_1_secweapon\", \"ct_1_flashbangs\", \"ct_1_hassmoke\", \"ct_1_hasmolotov\", \"ct_1_hashe\", \"ct_1_armor\", \"ct_1_hashelmet\", \"ct_1_hasdefusekit\",\n",
    "\t\t\"ct_2_mainweapon\", \"ct_2_secweapon\", \"ct_2_flashbangs\", \"ct_2_hassmoke\", \"ct_2_hasmolotov\", \"ct_2_hashe\", \"ct_2_armor\", \"ct_2_hashelmet\", \"ct_2_hasdefusekit\",\n",
    "\t\t\"ct_3_mainweapon\", \"ct_3_secweapon\", \"ct_3_flashbangs\", \"ct_3_hassmoke\", \"ct_3_hasmolotov\", \"ct_3_hashe\", \"ct_3_armor\", \"ct_3_hashelmet\", \"ct_3_hasdefusekit\",\n",
    "\t\t\"ct_4_mainweapon\", \"ct_4_secweapon\", \"ct_4_flashbangs\", \"ct_4_hassmoke\", \"ct_4_hasmolotov\", \"ct_4_hashe\", \"ct_4_armor\", \"ct_4_hashelmet\", \"ct_4_hasdefusekit\",\n",
    "\t\t\"ct_5_mainweapon\", \"ct_5_secweapon\", \"ct_5_flashbangs\", \"ct_5_hassmoke\", \"ct_5_hasmolotov\", \"ct_5_hashe\", \"ct_5_armor\", \"ct_5_hashelmet\", \"ct_5_hasdefusekit\",\n",
    "        \"round_time\",\n",
    "        'related_image','winner']\n",
    "full_csv = pd.DataFrame(columns=columns)\n",
    "for i,tab_file in enumerate(tabular_files):\n",
    "    if i%50==0:\n",
    "        print(\"processing file:\",i,\"of\",len(tabular_files))\n",
    "    if not os.stat(tab_file).st_size == 0 and os.path.isfile(tab_file.parent/\"winner.txt\"):\n",
    "        new_csv = pd.read_csv(tab_file)\n",
    "        new_csv['index']=new_csv.index\n",
    "        new_csv['related_image'] = str(tab_file.parent)+\"/output_map\"+new_csv['index'].astype(str)+\".jpg\"\n",
    "        new_csv['winner'] = fileLabeller(tab_file)\n",
    "        new_csv=new_csv.drop(columns=[\"index\"])\n",
    "        new_csv.columns=columns\n",
    "        full_csv=full_csv.append(new_csv)\n",
    "\n",
    ""
   ]
  },
  {
   "cell_type": "code",
   "execution_count": null,
   "metadata": {},
   "outputs": [],
   "source": [
    "filtered_image_files = L()\n",
    "for image_file in image_files:\n",
    "    if fileLabeller(image_file) in [\"t\",\"ct\"] and not os.stat(image_file.parent/\"tabular.csv\").st_size == 0 and str(image_file) in full_csv['related_image'].values:\n",
    "        filtered_image_files.append(image_file)\n",
    "\n",
    ""
   ]
  },
  {
   "cell_type": "code",
   "execution_count": null,
   "metadata": {},
   "outputs": [],
   "source": [
    "def roundSplitter(filtered_image_files):\n",
    "    uniqueList = list(set([Path(o).parent for o in filtered_image_files]))\n",
    "    splits=RandomSplitter()(uniqueList)\n",
    "    train_image_files=L()\n",
    "    valid_image_files=L()\n",
    "    for i,o in enumerate(filtered_image_files):\n",
    "        if uniqueList.index(Path(o).parent) in splits[0]:\n",
    "            train_image_files+=i\n",
    "        else:\n",
    "            valid_image_files+=i\n",
    "    return train_image_files,valid_image_files\n",
    "\n",
    ""
   ]
  },
  {
   "cell_type": "code",
   "execution_count": null,
   "metadata": {},
   "outputs": [],
   "source": [
    "filtered_image_files.sort()\n",
    "full_csv=full_csv.sort_values(by=['related_image'])\n",
    "#filtered_image_files=filtered_image_files[:2000]\n",
    "#full_csv=full_csv.iloc[:2000,:]\n",
    "splits=roundSplitter(filtered_image_files)\n",
    "\n",
    ""
   ]
  },
  {
   "cell_type": "code",
   "execution_count": null,
   "metadata": {},
   "outputs": [
    {
     "name": "stdout",
     "output_type": "stream",
     "text": "/home/marcel/projetos/data/csgo_analyze/processed_test/de_mirage/10/ct_0_t_1/output_map59.jpg\n"
    },
    {
     "data": {
      "text/plain": "t_1                                                                                                           0.65\nt_2                                                                                                              0\nt_3                                                                                                           0.37\nt_4                                                                                                              0\nt_5                                                                                                              0\n                                                                 ...                                              \nct_5_hashelmet                                                                                                   0\nct_5_hasdefusekit                                                                                                0\nround_time                                                                                                     134\nrelated_image        /home/marcel/projetos/data/csgo_analyze/processed_test/de_mirage/10/ct_0_t_1/output_map59.jpg\nwinner                                                                                                           t\nName: 59, Length: 113, dtype: object"
     },
     "execution_count": null,
     "metadata": {},
     "output_type": "execute_result"
    }
   ],
   "source": [
    "print(filtered_image_files[55])\n",
    "full_csv.iloc[55,:]\n",
    "\n",
    ""
   ]
  },
  {
   "cell_type": "code",
   "execution_count": null,
   "metadata": {},
   "outputs": [],
   "source": [
    "cont_names = ['t_1', 't_2','t_3','t_4','t_5',\n",
    "    'ct_1','ct_2','ct_3','ct_4','ct_5',\n",
    "    \"t_1_blindtime\", \"t_2_blindtime\", \"t_3_blindtime\", \"t_4_blindtime\", \"t_5_blindtime\",\n",
    "\t\"ct_1_blindtime\", \"ct_2_blindtime\", \"ct_3_blindtime\", \"ct_4_blindtime\", \"ct_5_blindtime\",\n",
    "    \"t_1_armor\",\"t_2_armor\",\"t_3_armor\",\"t_4_armor\",\"t_5_armor\",\n",
    "    \"ct_1_armor\",\"ct_2_armor\",\"ct_3_armor\",\"ct_4_armor\",\"ct_5_armor\",\"round_time\"]\n",
    "cat_names = [\"t_1_mainweapon\", \"t_1_secweapon\", \"t_1_flashbangs\", \"t_1_hassmoke\", \"t_1_hasmolotov\", \"t_1_hashe\", \"t_1_hashelmet\", \"t_1_hasc4\",\n",
    "\t\t\"t_2_mainweapon\", \"t_2_secweapon\", \"t_2_flashbangs\", \"t_2_hassmoke\", \"t_2_hasmolotov\", \"t_2_hashe\", \"t_2_hashelmet\", \"t_2_hasc4\",\n",
    "\t\t\"t_3_mainweapon\", \"t_3_secweapon\", \"t_3_flashbangs\", \"t_3_hassmoke\", \"t_3_hasmolotov\", \"t_3_hashe\", \"t_3_hashelmet\", \"t_3_hasc4\",\n",
    "\t\t\"t_4_mainweapon\", \"t_4_secweapon\", \"t_4_flashbangs\", \"t_4_hassmoke\", \"t_4_hasmolotov\", \"t_4_hashe\", \"t_4_hashelmet\", \"t_4_hasc4\",\n",
    "\t\t\"t_5_mainweapon\", \"t_5_secweapon\", \"t_5_flashbangs\", \"t_5_hassmoke\", \"t_5_hasmolotov\", \"t_5_hashe\", \"t_5_hashelmet\", \"t_5_hasc4\",\n",
    "\t\t\"ct_1_mainweapon\", \"ct_1_secweapon\", \"ct_1_flashbangs\", \"ct_1_hassmoke\", \"ct_1_hasmolotov\", \"ct_1_hashe\", \"ct_1_hashelmet\", \"ct_1_hasdefusekit\",\n",
    "\t\t\"ct_2_mainweapon\", \"ct_2_secweapon\", \"ct_2_flashbangs\", \"ct_2_hassmoke\", \"ct_2_hasmolotov\", \"ct_2_hashe\", \"ct_2_hashelmet\", \"ct_2_hasdefusekit\",\n",
    "\t\t\"ct_3_mainweapon\", \"ct_3_secweapon\", \"ct_3_flashbangs\", \"ct_3_hassmoke\", \"ct_3_hasmolotov\", \"ct_3_hashe\", \"ct_3_hashelmet\", \"ct_3_hasdefusekit\",\n",
    "\t\t\"ct_4_mainweapon\", \"ct_4_secweapon\", \"ct_4_flashbangs\", \"ct_4_hassmoke\", \"ct_4_hasmolotov\", \"ct_4_hashe\", \"ct_4_hashelmet\", \"ct_4_hasdefusekit\",\n",
    "\t\t\"ct_5_mainweapon\", \"ct_5_secweapon\", \"ct_5_flashbangs\", \"ct_5_hassmoke\", \"ct_5_hasmolotov\", \"ct_5_hashe\", \"ct_5_hashelmet\", \"ct_5_hasdefusekit\"]\n",
    "for cat in cont_names:\n",
    "    full_csv[cat]=full_csv[cat].astype(np.float)\n",
    "procs = [Categorify, Normalize]\n",
    "dls_tabular = TabularDataLoaders.from_df(full_csv, path, procs=procs, cont_names=cont_names,cat_names=cat_names,\n",
    "                                 y_names=\"winner\", bs=bs,valid_idx=splits[1],device=torch.device('cuda:0'))\n",
    "\n",
    ""
   ]
  },
  {
   "cell_type": "code",
   "execution_count": null,
   "metadata": {},
   "outputs": [],
   "source": [
    "\n",
    "dsets = Datasets(filtered_image_files, [[PILImage.create], [fileLabeller, Categorize]],splits=splits)\n",
    "item_tfms = [Resize(200),ToTensor]\n",
    "batch_tfms = [IntToFloatTensor, Normalize.from_stats(*imagenet_stats)]\n",
    "dls_image = dsets.dataloaders(after_item=item_tfms, after_batch=batch_tfms, bs=bs, num_workers=8,device=torch.device(\"cuda\"))\n",
    "\n",
    ""
   ]
  },
  {
   "cell_type": "code",
   "execution_count": null,
   "metadata": {},
   "outputs": [],
   "source": [
    "train_mixed_dl = MixedDL(dls_tabular.train, dls_image.train)\n",
    "train_mixed_dl.to(torch.device('cuda:0'))\n",
    "valid_mixed_dl = MixedDL(dls_tabular.valid,dls_image.valid)\n",
    "valid_mixed_dl.to(torch.device('cuda:0'))\n",
    "dls = DataLoaders(train_mixed_dl, valid_mixed_dl,device=torch.device('cuda:0'))\n",
    "\n",
    ""
   ]
  },
  {
   "cell_type": "code",
   "execution_count": null,
   "metadata": {},
   "outputs": [
    {
     "data": {
      "text/plain": "(TensorImage([[[[-2.1179, -2.1179, -2.1179,  ..., -2.1179, -2.1179, -2.1179],\n           [-2.1179, -2.1179, -2.1179,  ..., -2.1179, -2.1179, -2.1179],\n           [-2.1179, -2.1179, -2.1179,  ..., -2.1179, -2.1179, -2.1179],\n           ...,\n           [-2.1179, -2.1179, -2.1179,  ..., -2.1008, -2.0665, -2.1008],\n           [-2.1179, -2.1179, -2.1179,  ..., -2.1008, -2.0837, -2.1008],\n           [-2.1179, -2.1179, -2.1179,  ..., -2.1179, -2.0837, -2.1008]],\n \n          [[-2.0357, -2.0357, -2.0357,  ..., -2.0357, -2.0357, -2.0357],\n           [-2.0357, -2.0357, -2.0357,  ..., -2.0357, -2.0357, -2.0357],\n           [-2.0357, -2.0357, -2.0357,  ..., -2.0357, -2.0357, -2.0357],\n           ...,\n           [-2.0357, -2.0357, -2.0357,  ..., -2.0182, -1.9832, -2.0182],\n           [-2.0357, -2.0357, -2.0357,  ..., -2.0182, -2.0007, -2.0182],\n           [-2.0357, -2.0357, -2.0357,  ..., -2.0357, -2.0007, -2.0182]],\n \n          [[-1.8044, -1.8044, -1.8044,  ..., -1.8044, -1.8044, -1.8044],\n           [-1.8044, -1.8044, -1.8044,  ..., -1.8044, -1.8044, -1.8044],\n           [-1.8044, -1.8044, -1.8044,  ..., -1.8044, -1.8044, -1.8044],\n           ...,\n           [-1.8044, -1.8044, -1.8044,  ..., -1.7870, -1.7522, -1.7870],\n           [-1.8044, -1.8044, -1.8044,  ..., -1.7870, -1.7696, -1.7870],\n           [-1.8044, -1.8044, -1.8044,  ..., -1.8044, -1.7696, -1.7870]]],\n \n \n         [[[-2.1179, -2.1179, -2.1179,  ..., -2.1179, -2.1179, -2.1179],\n           [-2.1179, -2.1179, -2.1179,  ..., -2.1179, -2.1179, -2.1179],\n           [-2.1179, -2.1179, -2.1179,  ..., -2.1179, -2.1179, -2.1179],\n           ...,\n           [-2.1179, -2.1179, -2.1179,  ..., -2.1008, -2.0665, -2.1008],\n           [-2.1179, -2.1179, -2.1179,  ..., -2.1008, -2.0837, -2.1008],\n           [-2.1179, -2.1179, -2.1179,  ..., -2.1179, -2.0837, -2.1008]],\n \n          [[-2.0357, -2.0357, -2.0357,  ..., -2.0357, -2.0357, -2.0357],\n           [-2.0357, -2.0357, -2.0357,  ..., -2.0357, -2.0357, -2.0357],\n           [-2.0357, -2.0357, -2.0357,  ..., -2.0357, -2.0357, -2.0357],\n           ...,\n           [-2.0357, -2.0357, -2.0357,  ..., -2.0182, -1.9832, -2.0182],\n           [-2.0357, -2.0357, -2.0357,  ..., -2.0182, -2.0007, -2.0182],\n           [-2.0357, -2.0357, -2.0357,  ..., -2.0357, -2.0007, -2.0182]],\n \n          [[-1.8044, -1.8044, -1.8044,  ..., -1.8044, -1.8044, -1.8044],\n           [-1.8044, -1.8044, -1.8044,  ..., -1.8044, -1.8044, -1.8044],\n           [-1.8044, -1.8044, -1.8044,  ..., -1.8044, -1.8044, -1.8044],\n           ...,\n           [-1.8044, -1.8044, -1.8044,  ..., -1.7870, -1.7522, -1.7870],\n           [-1.8044, -1.8044, -1.8044,  ..., -1.7870, -1.7696, -1.7870],\n           [-1.8044, -1.8044, -1.8044,  ..., -1.8044, -1.7696, -1.7870]]],\n \n \n         [[[-2.1179, -2.1179, -2.1179,  ..., -2.1179, -2.1179, -2.1179],\n           [-2.1179, -2.1179, -2.1179,  ..., -2.1179, -2.1179, -2.1179],\n           [-2.1179, -2.1179, -2.1179,  ..., -2.1179, -2.1179, -2.1179],\n           ...,\n           [-2.1179, -2.1179, -2.1179,  ..., -2.1008, -2.0665, -2.1008],\n           [-2.1179, -2.1179, -2.1179,  ..., -2.1008, -2.0837, -2.1008],\n           [-2.1179, -2.1179, -2.1179,  ..., -2.1179, -2.0837, -2.1008]],\n \n          [[-2.0357, -2.0357, -2.0357,  ..., -2.0357, -2.0357, -2.0357],\n           [-2.0357, -2.0357, -2.0357,  ..., -2.0357, -2.0357, -2.0357],\n           [-2.0357, -2.0357, -2.0357,  ..., -2.0357, -2.0357, -2.0357],\n           ...,\n           [-2.0357, -2.0357, -2.0357,  ..., -2.0182, -1.9832, -2.0182],\n           [-2.0357, -2.0357, -2.0357,  ..., -2.0182, -2.0007, -2.0182],\n           [-2.0357, -2.0357, -2.0357,  ..., -2.0357, -2.0007, -2.0182]],\n \n          [[-1.8044, -1.8044, -1.8044,  ..., -1.8044, -1.8044, -1.8044],\n           [-1.8044, -1.8044, -1.8044,  ..., -1.8044, -1.8044, -1.8044],\n           [-1.8044, -1.8044, -1.8044,  ..., -1.8044, -1.8044, -1.8044],\n           ...,\n           [-1.8044, -1.8044, -1.8044,  ..., -1.7870, -1.7522, -1.7870],\n           [-1.8044, -1.8044, -1.8044,  ..., -1.7870, -1.7696, -1.7870],\n           [-1.8044, -1.8044, -1.8044,  ..., -1.8044, -1.7696, -1.7870]]],\n \n \n         ...,\n \n \n         [[[-2.1179, -2.1179, -2.1179,  ..., -2.1179, -2.1179, -2.1179],\n           [-2.1179, -2.1179, -2.1179,  ..., -2.1179, -2.1179, -2.1179],\n           [-2.1179, -2.1179, -2.1179,  ..., -2.1179, -2.1179, -2.1179],\n           ...,\n           [-2.1179, -2.1179, -2.1179,  ..., -2.1008, -2.0665, -2.1008],\n           [-2.1179, -2.1179, -2.1179,  ..., -2.1008, -2.0837, -2.1008],\n           [-2.1179, -2.1179, -2.1179,  ..., -2.1179, -2.0837, -2.1008]],\n \n          [[-2.0357, -2.0357, -2.0357,  ..., -2.0357, -2.0357, -2.0357],\n           [-2.0357, -2.0357, -2.0357,  ..., -2.0357, -2.0357, -2.0357],\n           [-2.0357, -2.0357, -2.0357,  ..., -2.0357, -2.0357, -2.0357],\n           ...,\n           [-2.0357, -2.0357, -2.0357,  ..., -2.0182, -1.9832, -2.0182],\n           [-2.0357, -2.0357, -2.0357,  ..., -2.0182, -2.0007, -2.0182],\n           [-2.0357, -2.0357, -2.0357,  ..., -2.0357, -2.0007, -2.0182]],\n \n          [[-1.8044, -1.8044, -1.8044,  ..., -1.8044, -1.8044, -1.8044],\n           [-1.8044, -1.8044, -1.8044,  ..., -1.8044, -1.8044, -1.8044],\n           [-1.8044, -1.8044, -1.8044,  ..., -1.8044, -1.8044, -1.8044],\n           ...,\n           [-1.8044, -1.8044, -1.8044,  ..., -1.7870, -1.7522, -1.7870],\n           [-1.8044, -1.8044, -1.8044,  ..., -1.7870, -1.7696, -1.7870],\n           [-1.8044, -1.8044, -1.8044,  ..., -1.8044, -1.7696, -1.7870]]],\n \n \n         [[[-2.1179, -2.1179, -2.1179,  ..., -2.1179, -2.1179, -2.1179],\n           [-2.1179, -2.1179, -2.1179,  ..., -2.1179, -2.1179, -2.1179],\n           [-2.1179, -2.1179, -2.1179,  ..., -2.1179, -2.1179, -2.1179],\n           ...,\n           [-2.1179, -2.1179, -2.1179,  ..., -2.1008, -2.0665, -2.1008],\n           [-2.1179, -2.1179, -2.1179,  ..., -2.1008, -2.0837, -2.1008],\n           [-2.1179, -2.1179, -2.1179,  ..., -2.1179, -2.0837, -2.1008]],\n \n          [[-2.0357, -2.0357, -2.0357,  ..., -2.0357, -2.0357, -2.0357],\n           [-2.0357, -2.0357, -2.0357,  ..., -2.0357, -2.0357, -2.0357],\n           [-2.0357, -2.0357, -2.0357,  ..., -2.0357, -2.0357, -2.0357],\n           ...,\n           [-2.0357, -2.0357, -2.0357,  ..., -2.0182, -1.9832, -2.0182],\n           [-2.0357, -2.0357, -2.0357,  ..., -2.0182, -2.0007, -2.0182],\n           [-2.0357, -2.0357, -2.0357,  ..., -2.0357, -2.0007, -2.0182]],\n \n          [[-1.8044, -1.8044, -1.8044,  ..., -1.8044, -1.8044, -1.8044],\n           [-1.8044, -1.8044, -1.8044,  ..., -1.8044, -1.8044, -1.8044],\n           [-1.8044, -1.8044, -1.8044,  ..., -1.8044, -1.8044, -1.8044],\n           ...,\n           [-1.8044, -1.8044, -1.8044,  ..., -1.7870, -1.7522, -1.7870],\n           [-1.8044, -1.8044, -1.8044,  ..., -1.7870, -1.7696, -1.7870],\n           [-1.8044, -1.8044, -1.8044,  ..., -1.8044, -1.7696, -1.7870]]],\n \n \n         [[[-2.1179, -2.1179, -2.1179,  ..., -2.1179, -2.1179, -2.1179],\n           [-2.1179, -2.1179, -2.1179,  ..., -2.1179, -2.1179, -2.1179],\n           [-2.1179, -2.1179, -2.1179,  ..., -2.1179, -2.1179, -2.1179],\n           ...,\n           [-2.1179, -2.1179, -2.1179,  ..., -2.1008, -2.0665, -2.1008],\n           [-2.1179, -2.1179, -2.1179,  ..., -2.1008, -2.0837, -2.1008],\n           [-2.1179, -2.1179, -2.1179,  ..., -2.1179, -2.0837, -2.1008]],\n \n          [[-2.0357, -2.0357, -2.0357,  ..., -2.0357, -2.0357, -2.0357],\n           [-2.0357, -2.0357, -2.0357,  ..., -2.0357, -2.0357, -2.0357],\n           [-2.0357, -2.0357, -2.0357,  ..., -2.0357, -2.0357, -2.0357],\n           ...,\n           [-2.0357, -2.0357, -2.0357,  ..., -2.0182, -1.9832, -2.0182],\n           [-2.0357, -2.0357, -2.0357,  ..., -2.0182, -2.0007, -2.0182],\n           [-2.0357, -2.0357, -2.0357,  ..., -2.0357, -2.0007, -2.0182]],\n \n          [[-1.8044, -1.8044, -1.8044,  ..., -1.8044, -1.8044, -1.8044],\n           [-1.8044, -1.8044, -1.8044,  ..., -1.8044, -1.8044, -1.8044],\n           [-1.8044, -1.8044, -1.8044,  ..., -1.8044, -1.8044, -1.8044],\n           ...,\n           [-1.8044, -1.8044, -1.8044,  ..., -1.7870, -1.7522, -1.7870],\n           [-1.8044, -1.8044, -1.8044,  ..., -1.7870, -1.7696, -1.7870],\n           [-1.8044, -1.8044, -1.8044,  ..., -1.8044, -1.7696, -1.7870]]]],\n        device='cuda:0'),\n TensorCategory([0, 0, 0, 0, 1, 1, 0, 1, 1, 0, 0, 0, 0, 0, 0, 0, 0, 1, 1, 1, 0, 1, 1, 1,\n         0, 0, 0, 0, 1, 1, 1, 1, 0, 0, 1, 1, 1, 1, 0, 1, 0, 0, 0, 0, 1, 0, 1, 0,\n         0, 0, 0, 0, 0, 0, 1, 1, 0, 0, 0, 0, 0, 0, 1, 0], device='cuda:0'))"
     },
     "execution_count": null,
     "metadata": {},
     "output_type": "execute_result"
    }
   ],
   "source": [
    "dls_image.one_batch()\n",
    "\n",
    ""
   ]
  },
  {
   "cell_type": "code",
   "execution_count": null,
   "metadata": {},
   "outputs": [
    {
     "data": {
      "text/plain": "<fastai2.tabular.learner.TabularLearner at 0x7f80bcbb9310>"
     },
     "execution_count": null,
     "metadata": {},
     "output_type": "execute_result"
    }
   ],
   "source": [
    "breakpoint()\n",
    "dls_tabular.one_batch()\n",
    "tabular_learner(dls_tabular)\n",
    ""
   ]
  }
 ],
 "metadata": {},
 "nbformat": 4,
 "nbformat_minor": 2
}
