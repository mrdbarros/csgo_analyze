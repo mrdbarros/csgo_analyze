{
 "cells": [
  {
   "cell_type": "code",
   "execution_count": null,
   "metadata": {},
   "outputs": [],
   "source": [
    "\n",
    "%load_ext autoreload\n",
    "%autoreload 2"
   ]
  },
  {
   "cell_type": "code",
   "execution_count": null,
   "metadata": {},
   "outputs": [],
   "source": [
    "# default_exp core"
   ]
  },
  {
   "cell_type": "markdown",
   "metadata": {},
   "source": [
    "# module name here\n",
    "\n",
    "> API details."
   ]
  },
  {
   "cell_type": "code",
   "execution_count": null,
   "metadata": {},
   "outputs": [],
   "source": [
    "#hide\n",
    "from nbdev.showdoc import *"
   ]
  },
  {
   "cell_type": "code",
   "execution_count": null,
   "metadata": {},
   "outputs": [],
   "source": [
    "from fastai2.vision.all import *\n",
    "from fastai2.tabular.all import *\n",
    "from fastai2.data.load import _FakeLoader, _loaders"
   ]
  },
  {
   "cell_type": "code",
   "execution_count": null,
   "metadata": {},
   "outputs": [],
   "source": [
    "from fastai2.data.load import _FakeLoader, _loaders\n",
    "class MixedDL():\n",
    "    def __init__(self, tab_dl:TabDataLoader, vis_dl:TfmdDL, device='cuda:0'):\n",
    "        \"Stores away `tab_dl` and `vis_dl`, and overrides `shuffle_fn`\"\n",
    "        self.device = device\n",
    "        tab_dl.shuffle_fn = self.shuffle_fn\n",
    "        vis_dl.shuffle_fn = self.shuffle_fn\n",
    "        self.dls = [tab_dl, vis_dl]\n",
    "        self.count = 0\n",
    "        self.fake_l = _FakeLoader(self, False, 0, 0)\n",
    "\n",
    "\n",
    "\n",
    "\n",
    "\n"
   ]
  },
  {
   "cell_type": "code",
   "execution_count": null,
   "metadata": {},
   "outputs": [],
   "source": [
    "@patch\n",
    "def shuffle_fn(x:MixedDL, idxs):\n",
    "        \"Generates a new `rng` based upon which `DataLoader` is called\"\n",
    "        if x.count == 0: # if we haven't generated an rng yet\n",
    "            x.rng = x.dls[0].rng.sample(idxs, len(idxs))\n",
    "            x.count += 1\n",
    "            return x.rng\n",
    "        else:\n",
    "            x.count = 0\n",
    "            return x.rng\n",
    "\n",
    "@patch\n",
    "def __iter__(dl:MixedDL):\n",
    "        \"Iterate over your `DataLoader`\"\n",
    "        z = zip(*[_loaders[i.fake_l.num_workers==0](i.fake_l) for i in dl.dls])\n",
    "        for b in z:\n",
    "            if dl.device is not None:\n",
    "                b = to_device(b, dl.device)\n",
    "            batch = []\n",
    "            batch.extend(dl.dls[0].after_batch(b[0])[:2]) # tabular cat and cont\n",
    "            batch.append(dl.dls[1].after_batch(b[1][0])) # Image\n",
    "            try: # In case the data is unlabelled\n",
    "                batch.append(b[1][1]) # y\n",
    "                yield tuple(batch)\n",
    "            except:\n",
    "                yield tuple(batch)\n",
    "\n",
    "@patch\n",
    "def one_batch(x:MixedDL):\n",
    "        \"Grab a batch from the `DataLoader`\"\n",
    "        with x.fake_l.no_multiproc(): res = first(x)\n",
    "        if hasattr(x, 'it'): delattr(x, 'it')\n",
    "        return res\n",
    "\n",
    "@patch\n",
    "def __len__(x:MixedDL): return len(x.dls[0])\n",
    "\n",
    "@patch\n",
    "def to(x:MixedDL, device): x.device = device"
   ]
  },
  {
   "cell_type": "code",
   "execution_count": null,
   "metadata": {},
   "outputs": [
    {
     "data": {
      "text/plain": "11860"
     },
     "execution_count": null,
     "metadata": {},
     "output_type": "execute_result"
    }
   ],
   "source": [
    "files = get_image_files(\"/home/marcel/projetos/data/csgo_analyze/processed/de_mirage\")\n",
    "len(files)"
   ]
  },
  {
   "cell_type": "code",
   "execution_count": null,
   "metadata": {},
   "outputs": [],
   "source": [
    "\n"
   ]
  }
 ],
 "metadata": {
  "kernelspec": {
   "display_name": "Python 3",
   "language": "python",
   "name": "python3"
  }
 },
 "nbformat": 4,
 "nbformat_minor": 2
}
